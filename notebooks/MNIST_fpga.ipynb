{
 "cells": [
  {
   "cell_type": "code",
   "execution_count": 5,
   "id": "692b79a0-90da-47ff-97de-3e851c2efb17",
   "metadata": {},
   "outputs": [
    {
     "data": {
      "application/javascript": "\ntry {\nrequire(['notebook/js/codecell'], function(codecell) {\n  codecell.CodeCell.options_default.highlight_modes[\n      'magic_text/x-csrc'] = {'reg':[/^%%microblaze/]};\n  Jupyter.notebook.events.one('kernel_ready.Kernel', function(){\n      Jupyter.notebook.get_cells().map(function(cell){\n          if (cell.cell_type == 'code'){ cell.auto_highlight(); } }) ;\n  });\n});\n} catch (e) {};\n"
     },
     "metadata": {},
     "output_type": "display_data"
    },
    {
     "data": {
      "application/javascript": "\ntry {\nrequire(['notebook/js/codecell'], function(codecell) {\n  codecell.CodeCell.options_default.highlight_modes[\n      'magic_text/x-csrc'] = {'reg':[/^%%pybind11/]};\n  Jupyter.notebook.events.one('kernel_ready.Kernel', function(){\n      Jupyter.notebook.get_cells().map(function(cell){\n          if (cell.cell_type == 'code'){ cell.auto_highlight(); } }) ;\n  });\n});\n} catch (e) {};\n"
     },
     "metadata": {},
     "output_type": "display_data"
    }
   ],
   "source": [
    "from pynq import Overlay\n",
    "from pynq import MMIO\n",
    "from pynq import allocate\n",
    "import pynq.lib.dma\n",
    "import numpy as np\n",
    "import cv2\n",
    "%matplotlib inline\n",
    "import matplotlib . pyplot as plt\n",
    "import time"
   ]
  },
  {
   "cell_type": "code",
   "execution_count": 6,
   "id": "0dc11b6f-7e0c-4c07-944f-e85d953dbf85",
   "metadata": {
    "collapsed": true,
    "jupyter": {
     "outputs_hidden": true
    },
    "tags": []
   },
   "outputs": [
    {
     "data": {
      "text/plain": [
       "['MNIST_0',\n",
       " 'PSDDR',\n",
       " '__class__',\n",
       " '__delattr__',\n",
       " '__dict__',\n",
       " '__dir__',\n",
       " '__doc__',\n",
       " '__eq__',\n",
       " '__format__',\n",
       " '__ge__',\n",
       " '__getattr__',\n",
       " '__getattribute__',\n",
       " '__gt__',\n",
       " '__hash__',\n",
       " '__init__',\n",
       " '__init_subclass__',\n",
       " '__le__',\n",
       " '__lt__',\n",
       " '__module__',\n",
       " '__ne__',\n",
       " '__new__',\n",
       " '__reduce__',\n",
       " '__reduce_ex__',\n",
       " '__repr__',\n",
       " '__setattr__',\n",
       " '__sizeof__',\n",
       " '__str__',\n",
       " '__subclasshook__',\n",
       " '__weakref__',\n",
       " '_deepcopy_dict_from',\n",
       " '_ip_map',\n",
       " '_register_drivers',\n",
       " 'axi_dma_0',\n",
       " 'axi_dma_1',\n",
       " 'axi_intc_0',\n",
       " 'axi_timer_0',\n",
       " 'binfile_name',\n",
       " 'bit_data',\n",
       " 'bitfile_name',\n",
       " 'clock_dict',\n",
       " 'device',\n",
       " 'download',\n",
       " 'dtbo',\n",
       " 'firmware_path',\n",
       " 'free',\n",
       " 'gen_cache',\n",
       " 'gpio_dict',\n",
       " 'hierarchy_dict',\n",
       " 'ignore_version',\n",
       " 'insert_dtbo',\n",
       " 'interrupt_controllers',\n",
       " 'interrupt_pins',\n",
       " 'ip_dict',\n",
       " 'is_loaded',\n",
       " 'load_ip_data',\n",
       " 'mem_dict',\n",
       " 'parser',\n",
       " 'partial',\n",
       " 'pr_dict',\n",
       " 'pr_download',\n",
       " 'remove_dtbo',\n",
       " 'reset',\n",
       " 'systemgraph',\n",
       " 'timestamp',\n",
       " 'zynq_ultra_ps_e_0']"
      ]
     },
     "execution_count": 6,
     "metadata": {},
     "output_type": "execute_result"
    }
   ],
   "source": [
    "base = Overlay(\"assets/design_1.bit\")\n",
    "dir(base)"
   ]
  },
  {
   "cell_type": "code",
   "execution_count": 7,
   "id": "5488084c-cb57-47e5-8699-3df67d3ccf73",
   "metadata": {},
   "outputs": [],
   "source": [
    "dma0 = base.axi_dma_0\n",
    "dma1 = base.axi_dma_1\n",
    "registers = base.MNIST_0.register_map"
   ]
  },
  {
   "cell_type": "code",
   "execution_count": 8,
   "id": "3f495208-f44a-407d-9a19-5fc993b9fc0c",
   "metadata": {},
   "outputs": [],
   "source": [
    "import struct\n",
    "def float_to_int(f):\n",
    "    packed = struct.pack('>f', f)\n",
    "    unpacked = struct.unpack('>I', packed)[0]\n",
    "    return unpacked\n",
    "\n",
    "def int_to_float(i):\n",
    "    packed = struct.pack('>I', i)\n",
    "    unpacked = struct.unpack('>f', packed)[0]\n",
    "    return unpacked\n"
   ]
  },
  {
   "cell_type": "code",
   "execution_count": 9,
   "id": "6e1a0710-226b-4aed-ba32-5f45f57d428f",
   "metadata": {},
   "outputs": [],
   "source": [
    "input_buffer = allocate(shape=(28 * 28), dtype=np.uint32, cacheable=False)\n",
    "output_buffer = allocate(shape=(10), dtype=np.uint32, cacheable=False)"
   ]
  },
  {
   "cell_type": "code",
   "execution_count": 10,
   "id": "495dca78-c105-40eb-9f90-abc796784d97",
   "metadata": {},
   "outputs": [],
   "source": [
    "import json\n",
    "params = json.load(open(\"assets/params.json\"))\n",
    "depth1 = params['conv1_depthwise']\n",
    "point1 = params['conv1_pointwise']\n",
    "depth2 = params['conv2_depthwise']\n",
    "point2 = params['conv2_pointwise']\n",
    "depth3 = params['conv3_depthwise']\n",
    "point3 = params['conv3_pointwise']\n",
    "\n",
    "depth1 = [float_to_int(item) for row2 in depth1 for row in row2 for item in row]\n",
    "depth2 = [float_to_int(item) for row2 in depth2 for row in row2 for item in row]\n",
    "depth3 = [float_to_int(item) for row2 in depth3 for row in row2 for item in row]\n",
    "point1 = [float_to_int(item) for row in point1 for item in row]\n",
    "point2 = [float_to_int(item) for row in point2 for item in row]\n",
    "point3 = [float_to_int(item) for row in point3 for item in row]\n",
    "\n",
    "params = depth1 + point1 + depth2 + point2 + depth3 + point3\n",
    "param_buffer[:] = params[:]\n",
    "param_buffer.flush()"
   ]
  },
  {
   "cell_type": "code",
   "execution_count": 11,
   "id": "8dcf3050-9cae-4611-aae2-415d2327d69f",
   "metadata": {},
   "outputs": [],
   "source": [
    "registers.CTRL.AP_START = 1\n",
    "registers.CTRL.AUTO_RESTART = 1"
   ]
  },
  {
   "cell_type": "code",
   "execution_count": 12,
   "id": "eb93f578-e309-4dff-b55b-acb6fe0aed98",
   "metadata": {},
   "outputs": [],
   "source": [
    "images = json.load(open(\"assets/images.json\"))\n",
    "labels = json.load(open(\"assets/labels.json\"))    "
   ]
  },
  {
   "cell_type": "code",
   "execution_count": 13,
   "id": "9a1d090c-3cc2-49ef-8678-0bf884ebac9b",
   "metadata": {
    "tags": []
   },
   "outputs": [
    {
     "name": "stdout",
     "output_type": "stream",
     "text": [
      "Total elapsed time: 0.9031553268432617 s\n",
      "Elapsed time per picture: 0.8819876238703728 ms\n",
      "Accuracy: 0.9052734375\n"
     ]
    }
   ],
   "source": [
    "import time\n",
    "t0 = time.time()\n",
    "total_correct = 0\n",
    "total_num = 0\n",
    "for image, label in zip(images, labels):\n",
    "    input_buffer[:] = image[:]\n",
    "    input_buffer.flush()    \n",
    "    dma0.sendchannel.transfer(input_buffer)\n",
    "    dma1.sendchannel.transfer(param_buffer)\n",
    "    dma0.recvchannel.transfer(output_buffer)\n",
    "    dma0.sendchannel.wait()\n",
    "    dma1.sendchannel.wait()\n",
    "    dma0.recvchannel.wait()\n",
    "    res = list(output_buffer)\n",
    "    res = [int_to_float(i) for i in res]\n",
    "    pred = res.index(max(res))\n",
    "    # print(pred, label)\n",
    "    total_correct += (pred == label)\n",
    "    total_num += 1\n",
    "t1 = time.time()\n",
    "print(\"Total elapsed time:\", t1-t0, \"s\")\n",
    "print(\"Elapsed time per picture:\", ((t1-t0) / total_num) * 1000, \"ms\")\n",
    "print('Accuracy:', total_correct / float(total_num))"
   ]
  },
  {
   "cell_type": "code",
   "execution_count": 14,
   "id": "103536d9-0cab-475f-860e-a279b08cd95f",
   "metadata": {},
   "outputs": [
    {
     "data": {
      "image/png": "[encoded data removed]",
      "text/plain": [
       "<Figure size 432x288 with 1 Axes>"
      ]
     },
     "metadata": {
      "needs_background": "light"
     },
     "output_type": "display_data"
    }
   ],
   "source": [
    "def imshow(img):\n",
    "    img = img / 2 + 0.     # unnormalize\n",
    "    img = img.squeeze()\n",
    "    plt.imshow(img, cmap='gray')\n",
    "image_example = images[0]\n",
    "image_example = np.array([int_to_float(i) for i in image_example])\n",
    "image_example = image_example.reshape([28, 28])\n",
    "imshow(image_example)"
   ]
  },
  {
   "cell_type": "code",
   "execution_count": null,
   "id": "b7af756a-ee59-4a6d-8001-a57aeeb22b1f",
   "metadata": {},
   "outputs": [],
   "source": []
  }
 ],
 "metadata": {
  "kernelspec": {
   "display_name": "Python 3 (ipykernel)",
   "language": "python",
   "name": "python3"
  },
  "language_info": {
   "codemirror_mode": {
    "name": "ipython",
    "version": 3
   },
   "file_extension": ".py",
   "mimetype": "text/x-python",
   "name": "python",
   "nbconvert_exporter": "python",
   "pygments_lexer": "ipython3",
   "version": "3.10.12"
  }
 },
 "nbformat": 4,
 "nbformat_minor": 5
}
