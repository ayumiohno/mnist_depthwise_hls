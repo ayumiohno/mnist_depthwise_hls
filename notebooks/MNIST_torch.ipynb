{
 "cells": [
  {
   "cell_type": "code",
   "execution_count": 1,
   "id": "1f9d50fc-0296-4d5a-bb96-307ace2a3cac",
   "metadata": {
    "collapsed": true,
    "jupyter": {
     "outputs_hidden": true
    },
    "tags": []
   },
   "outputs": [
    {
     "name": "stdout",
     "output_type": "stream",
     "text": [
      "Collecting torch\n",
      "  Downloading torch-2.3.1-cp310-cp310-manylinux2014_aarch64.whl (86.9 MB)\n",
      "\u001b[2K     \u001b[90m━━━━━━━━━━━━━━━━━━━━━━━━━━━━━━━━━━━━━━━\u001b[0m \u001b[32m86.9/86.9 MB\u001b[0m \u001b[31m646.0 kB/s\u001b[0m eta \u001b[36m0:00:00\u001b[0m00:01\u001b[0m00:01\u001b[0m\n",
      "\u001b[?25hCollecting filelock\n",
      "  Downloading filelock-3.15.4-py3-none-any.whl (16 kB)\n",
      "Collecting networkx\n",
      "  Downloading networkx-3.3-py3-none-any.whl (1.7 MB)\n",
      "\u001b[2K     \u001b[90m━━━━━━━━━━━━━━━━━━━━━━━━━━━━━━━━━━━━━━━━\u001b[0m \u001b[32m1.7/1.7 MB\u001b[0m \u001b[31m7.0 MB/s\u001b[0m eta \u001b[36m0:00:00\u001b[0m:00:01\u001b[0m00:01\u001b[0m\n",
      "\u001b[?25hCollecting typing-extensions>=4.8.0\n",
      "  Downloading typing_extensions-4.12.2-py3-none-any.whl (37 kB)\n",
      "Collecting sympy\n",
      "  Downloading sympy-1.13.1-py3-none-any.whl (6.2 MB)\n",
      "\u001b[2K     \u001b[90m━━━━━━━━━━━━━━━━━━━━━━━━━━━━━━━━━━━━━━━━\u001b[0m \u001b[32m6.2/6.2 MB\u001b[0m \u001b[31m6.8 MB/s\u001b[0m eta \u001b[36m0:00:00\u001b[0m:00:01\u001b[0m00:01\u001b[0m\n",
      "\u001b[?25hRequirement already satisfied: jinja2 in /usr/lib/python3/dist-packages (from torch) (3.0.3)\n",
      "Collecting fsspec\n",
      "  Downloading fsspec-2024.6.1-py3-none-any.whl (177 kB)\n",
      "\u001b[2K     \u001b[90m━━━━━━━━━━━━━━━━━━━━━━━━━━━━━━━━━━━━━━━\u001b[0m \u001b[32m177.6/177.6 KB\u001b[0m \u001b[31m3.0 MB/s\u001b[0m eta \u001b[36m0:00:00\u001b[0m00:01\u001b[0m\n",
      "\u001b[?25hCollecting mpmath<1.4,>=1.1.0\n",
      "  Downloading mpmath-1.3.0-py3-none-any.whl (536 kB)\n",
      "\u001b[2K     \u001b[90m━━━━━━━━━━━━━━━━━━━━━━━━━━━━━━━━━━━━━━━\u001b[0m \u001b[32m536.2/536.2 KB\u001b[0m \u001b[31m4.0 MB/s\u001b[0m eta \u001b[36m0:00:00\u001b[0m00:01\u001b[0m\n",
      "\u001b[?25hInstalling collected packages: mpmath, typing-extensions, sympy, networkx, fsspec, filelock, torch\n",
      "  Attempting uninstall: typing-extensions\n",
      "    Found existing installation: typing_extensions 4.3.0\n",
      "    Uninstalling typing_extensions-4.3.0:\n",
      "      Successfully uninstalled typing_extensions-4.3.0\n",
      "Successfully installed filelock-3.15.4 fsspec-2024.6.1 mpmath-1.3.0 networkx-3.3 sympy-1.13.1 torch-2.3.1 typing-extensions-4.12.2\n",
      "Collecting torchvision\n",
      "  Downloading torchvision-0.18.1-cp310-cp310-manylinux2014_aarch64.whl (14.0 MB)\n",
      "\u001b[2K     \u001b[90m━━━━━━━━━━━━━━━━━━━━━━━━━━━━━━━━━━━━━━━━\u001b[0m \u001b[32m14.0/14.0 MB\u001b[0m \u001b[31m6.3 MB/s\u001b[0m eta \u001b[36m0:00:00\u001b[0m:00:01\u001b[0m00:01\u001b[0m\n",
      "\u001b[?25hRequirement already satisfied: torch==2.3.1 in /usr/local/share/pynq-venv/lib/python3.10/site-packages (from torchvision) (2.3.1)\n",
      "Requirement already satisfied: numpy in /usr/local/share/pynq-venv/lib/python3.10/site-packages (from torchvision) (1.26.4)\n",
      "Requirement already satisfied: pillow!=8.3.*,>=5.3.0 in /usr/lib/python3/dist-packages (from torchvision) (9.0.1)\n",
      "Requirement already satisfied: jinja2 in /usr/lib/python3/dist-packages (from torch==2.3.1->torchvision) (3.0.3)\n",
      "Requirement already satisfied: fsspec in /usr/local/share/pynq-venv/lib/python3.10/site-packages (from torch==2.3.1->torchvision) (2024.6.1)\n",
      "Requirement already satisfied: filelock in /usr/local/share/pynq-venv/lib/python3.10/site-packages (from torch==2.3.1->torchvision) (3.15.4)\n",
      "Requirement already satisfied: typing-extensions>=4.8.0 in /usr/local/share/pynq-venv/lib/python3.10/site-packages (from torch==2.3.1->torchvision) (4.12.2)\n",
      "Requirement already satisfied: networkx in /usr/local/share/pynq-venv/lib/python3.10/site-packages (from torch==2.3.1->torchvision) (3.3)\n",
      "Requirement already satisfied: sympy in /usr/local/share/pynq-venv/lib/python3.10/site-packages (from torch==2.3.1->torchvision) (1.13.1)\n",
      "Requirement already satisfied: mpmath<1.4,>=1.1.0 in /usr/local/share/pynq-venv/lib/python3.10/site-packages (from sympy->torch==2.3.1->torchvision) (1.3.0)\n",
      "Installing collected packages: torchvision\n",
      "Successfully installed torchvision-0.18.1\n"
     ]
    }
   ],
   "source": [
    "!pip install torch\n",
    "!pip install torchvision"
   ]
  },
  {
   "cell_type": "code",
   "execution_count": 2,
   "id": "c8d3759f-da75-41ec-9da5-2b2ab7993efd",
   "metadata": {},
   "outputs": [],
   "source": [
    "from torch import optim, nn\n",
    "from collections import OrderedDict\n",
    "\n",
    "hidden_units = [4, 12]\n",
    "output_units = 10\n",
    "model_d = nn.Sequential(OrderedDict([\n",
    "    ('conv1_depthwise', nn.Conv2d(1, 1, 3, stride=3, padding=1, groups=1, bias=False)),\n",
    "    ('conv1_pointwise', nn.Conv2d(1, hidden_units[0], 1, bias=False)),\n",
    "    ('Relu1', nn.ReLU()),\n",
    "    ('conv2_depthwise', nn.Conv2d(hidden_units[0], hidden_units[0], 3, stride=3, padding=1, groups=hidden_units[0], bias=False)),\n",
    "    ('conv2_pointwise', nn.Conv2d(hidden_units[0], hidden_units[1], 1, bias=False)),\n",
    "    ('Relu2', nn.ReLU()),\n",
    "    ('conv3_depthwise', nn.Conv2d(hidden_units[1], hidden_units[1], 4, stride=4, padding=0, groups=hidden_units[1], bias=False)),\n",
    "    ('conv3_pointwise', nn.Conv2d(hidden_units[1], output_units, 1, bias=False)),\n",
    "    ('log_softmax', nn.LogSoftmax(dim = 1))\n",
    "]))"
   ]
  },
  {
   "cell_type": "code",
   "execution_count": 3,
   "id": "bf7be3a1-bd34-430c-8d3f-ac61312e2dff",
   "metadata": {},
   "outputs": [
    {
     "data": {
      "text/plain": [
       "<All keys matched successfully>"
      ]
     },
     "execution_count": 3,
     "metadata": {},
     "output_type": "execute_result"
    }
   ],
   "source": [
    "import torch\n",
    "model_d.load_state_dict(torch.load(\"assets/model.pth\"))"
   ]
  },
  {
   "cell_type": "code",
   "execution_count": 10,
   "id": "08a8695c-0399-4f2e-8b75-9fa14609f341",
   "metadata": {},
   "outputs": [],
   "source": [
    "import json\n",
    "images = json.load(open(\"assets/images_py.json\"))\n",
    "labels = json.load(open(\"assets/labels.json\"))"
   ]
  },
  {
   "cell_type": "code",
   "execution_count": 13,
   "id": "5b1cf0c0-051b-489a-9086-d12a5677d183",
   "metadata": {},
   "outputs": [],
   "source": [
    "images_t = []\n",
    "for image in images:\n",
    "    images_t.append(torch.tensor(image))"
   ]
  },
  {
   "cell_type": "code",
   "execution_count": 15,
   "id": "acf4e8ec-e0f9-4cbe-9631-a20b5b7d2e06",
   "metadata": {},
   "outputs": [
    {
     "name": "stdout",
     "output_type": "stream",
     "text": [
      "Total elapsed time: 2.9771807193756104 s\n",
      "Elapsed time per picture: 2.9074030462652445 ms\n",
      "Accuracy: 0.9052734375\n"
     ]
    }
   ],
   "source": [
    "import time\n",
    "total_correct = 0\n",
    "total_num = 0\n",
    "t0 = time.time()\n",
    "for image, label in zip(images_t, labels):\n",
    "  ps = torch.exp(model_d(image)).view(10)\n",
    "  pred = torch.argmax(ps)\n",
    "  total_correct += pred.item() == label\n",
    "  total_num += 1\n",
    "t1 = time.time()\n",
    "print(\"Total elapsed time:\", t1-t0, \"s\")\n",
    "print(\"Elapsed time per picture:\", ((t1-t0) / total_num) * 1000, \"ms\")\n",
    "print('Accuracy:', total_correct / float(total_num))"
   ]
  },
  {
   "cell_type": "code",
   "execution_count": null,
   "id": "7189210c-c03b-49fc-84d1-c3ffa9d89be5",
   "metadata": {},
   "outputs": [],
   "source": []
  }
 ],
 "metadata": {
  "kernelspec": {
   "display_name": "Python 3 (ipykernel)",
   "language": "python",
   "name": "python3"
  },
  "language_info": {
   "codemirror_mode": {
    "name": "ipython",
    "version": 3
   },
   "file_extension": ".py",
   "mimetype": "text/x-python",
   "name": "python",
   "nbconvert_exporter": "python",
   "pygments_lexer": "ipython3",
   "version": "3.10.12"
  }
 },
 "nbformat": 4,
 "nbformat_minor": 5
}
